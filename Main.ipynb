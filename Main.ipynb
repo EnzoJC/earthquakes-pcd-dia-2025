{
 "cells": [
  {
   "cell_type": "code",
   "id": "initial_id",
   "metadata": {
    "collapsed": true,
    "ExecuteTime": {
     "end_time": "2025-04-21T02:13:24.230402Z",
     "start_time": "2025-04-21T02:13:24.228066Z"
    }
   },
   "source": [
    "import streamlit as st\n",
    "import pandas as pd\n",
    "import matplotlib.pyplot as plt\n",
    "import urllib.request\n",
    "from urllib.request import urlopen\n",
    "import requests\n",
    "import ssl\n",
    "import json\n",
    "ssl._create_default_https_context = ssl._create_unverified_context"
   ],
   "outputs": [],
   "execution_count": 4
  },
  {
   "metadata": {
    "ExecuteTime": {
     "end_time": "2025-04-21T02:12:36.591422Z",
     "start_time": "2025-04-21T02:12:36.585960Z"
    }
   },
   "cell_type": "code",
   "source": [
    "# Cargar datos de URL y convertir a DataFrame\n",
    "@st.cache_data # este decorador permite almacenar en caché los datos para evitar recargas innecesarias\n",
    "def load_data(url, type='csv', file_name='temp'):\n",
    "    # Cabeceras para la solicitud\n",
    "    headers = {\n",
    "        \"User-Agent\": \"Mozilla/5.0 (Windows NT 10.0; Win64; x64) AppleWebKit/537.36 (KHTML, like Gecko) Chrome/123.0.0.0 Safari/537.36\",\n",
    "        \"Accept\": \"text/html,application/xhtml+xml,application/xml;q=0.9\",\n",
    "        \"Accept-Language\": \"en-US,en;q=0.9\",\n",
    "    }\n",
    "\n",
    "    # Realizar la solicitud\n",
    "    req = urllib.request.Request(url, headers=headers, method='GET')\n",
    "\n",
    "    # Descargar el archivo\n",
    "    with urlopen(req) as response, open(file_name, 'wb') as out_file:\n",
    "        out_file.write(response.read())\n",
    "\n",
    "    # Leer el archivo según su tipo\n",
    "    if type == 'csv':\n",
    "        return pd.read_csv(file_name)\n",
    "    elif type == 'xlsx':\n",
    "        return pd.read_excel(file_name)\n",
    "    elif type == 'json':\n",
    "        with open(file_name, 'r') as file:\n",
    "            data = json.load(file)\n",
    "        return pd.DataFrame(data)\n",
    "    else:\n",
    "        raise ValueError(\"Unsupported file type\")"
   ],
   "id": "95df2343b87a0067",
   "outputs": [
    {
     "name": "stderr",
     "output_type": "stream",
     "text": [
      "2025-04-20 21:12:36.588 WARNING streamlit.runtime.caching.cache_data_api: No runtime found, using MemoryCacheStorageManager\n"
     ]
    }
   ],
   "execution_count": 2
  },
  {
   "metadata": {
    "ExecuteTime": {
     "end_time": "2025-04-21T02:19:08.071299Z",
     "start_time": "2025-04-21T02:19:08.064573Z"
    }
   },
   "cell_type": "code",
   "source": [
    "url = \"https://www.datosabiertos.gob.pe/sites/default/files/Catalogo1960_2023.xlsx\"\n",
    "df = load_data(url, type='xlsx', file_name='earthquakes.xlsx')\n",
    "# Imprimir dataframe en consola\n",
    "df.head()"
   ],
   "id": "ac78101f30ac5fbc",
   "outputs": [
    {
     "data": {
      "text/plain": [
       "   ID  FECHA_UTC  HORA_UTC  LATITUD  LONGITUD  PROFUNDIDAD  MAGNITUD  \\\n",
       "0   0   19600113    154034  -16.145   -72.144           60       7.5   \n",
       "1   1   19600115     93024  -15.000   -75.000           70       7.0   \n",
       "2   2   19600117     25758  -14.500   -74.500          150       6.4   \n",
       "3   3   19600123     33732  -12.500   -68.500          300       5.8   \n",
       "4   4   19600130     50724   -5.500   -77.500          100       5.7   \n",
       "\n",
       "   FECHA_CORTE  \n",
       "0     20223006  \n",
       "1     20223006  \n",
       "2     20223006  \n",
       "3     20223006  \n",
       "4     20223006  "
      ],
      "text/html": [
       "<div>\n",
       "<style scoped>\n",
       "    .dataframe tbody tr th:only-of-type {\n",
       "        vertical-align: middle;\n",
       "    }\n",
       "\n",
       "    .dataframe tbody tr th {\n",
       "        vertical-align: top;\n",
       "    }\n",
       "\n",
       "    .dataframe thead th {\n",
       "        text-align: right;\n",
       "    }\n",
       "</style>\n",
       "<table border=\"1\" class=\"dataframe\">\n",
       "  <thead>\n",
       "    <tr style=\"text-align: right;\">\n",
       "      <th></th>\n",
       "      <th>ID</th>\n",
       "      <th>FECHA_UTC</th>\n",
       "      <th>HORA_UTC</th>\n",
       "      <th>LATITUD</th>\n",
       "      <th>LONGITUD</th>\n",
       "      <th>PROFUNDIDAD</th>\n",
       "      <th>MAGNITUD</th>\n",
       "      <th>FECHA_CORTE</th>\n",
       "    </tr>\n",
       "  </thead>\n",
       "  <tbody>\n",
       "    <tr>\n",
       "      <th>0</th>\n",
       "      <td>0</td>\n",
       "      <td>19600113</td>\n",
       "      <td>154034</td>\n",
       "      <td>-16.145</td>\n",
       "      <td>-72.144</td>\n",
       "      <td>60</td>\n",
       "      <td>7.5</td>\n",
       "      <td>20223006</td>\n",
       "    </tr>\n",
       "    <tr>\n",
       "      <th>1</th>\n",
       "      <td>1</td>\n",
       "      <td>19600115</td>\n",
       "      <td>93024</td>\n",
       "      <td>-15.000</td>\n",
       "      <td>-75.000</td>\n",
       "      <td>70</td>\n",
       "      <td>7.0</td>\n",
       "      <td>20223006</td>\n",
       "    </tr>\n",
       "    <tr>\n",
       "      <th>2</th>\n",
       "      <td>2</td>\n",
       "      <td>19600117</td>\n",
       "      <td>25758</td>\n",
       "      <td>-14.500</td>\n",
       "      <td>-74.500</td>\n",
       "      <td>150</td>\n",
       "      <td>6.4</td>\n",
       "      <td>20223006</td>\n",
       "    </tr>\n",
       "    <tr>\n",
       "      <th>3</th>\n",
       "      <td>3</td>\n",
       "      <td>19600123</td>\n",
       "      <td>33732</td>\n",
       "      <td>-12.500</td>\n",
       "      <td>-68.500</td>\n",
       "      <td>300</td>\n",
       "      <td>5.8</td>\n",
       "      <td>20223006</td>\n",
       "    </tr>\n",
       "    <tr>\n",
       "      <th>4</th>\n",
       "      <td>4</td>\n",
       "      <td>19600130</td>\n",
       "      <td>50724</td>\n",
       "      <td>-5.500</td>\n",
       "      <td>-77.500</td>\n",
       "      <td>100</td>\n",
       "      <td>5.7</td>\n",
       "      <td>20223006</td>\n",
       "    </tr>\n",
       "  </tbody>\n",
       "</table>\n",
       "</div>"
      ]
     },
     "execution_count": 20,
     "metadata": {},
     "output_type": "execute_result"
    }
   ],
   "execution_count": 20
  },
  {
   "metadata": {
    "ExecuteTime": {
     "end_time": "2025-04-21T02:19:10.397305Z",
     "start_time": "2025-04-21T02:19:10.358450Z"
    }
   },
   "cell_type": "code",
   "source": [
    "# Eliminar columnas innecesarias\n",
    "df.drop(columns=['ID', 'FECHA_CORTE'], inplace=True)\n",
    "\n",
    "# Renombrar columnas\n",
    "df.rename(columns={\n",
    "    'FECHA_UTC': 'Fecha',\n",
    "    'HORA_UTC': 'Hora',\n",
    "    'LATITUD': 'Latitud',\n",
    "    'LONGITUD': 'Longitud',\n",
    "    'MAGNITUD': 'Magnitud',\n",
    "    'PROFUNDIDAD': 'Profundidad',\n",
    "}, inplace=True)\n",
    "\n",
    "# Convertir columnas a tipos adecuados\n",
    "df['Fecha'] = pd.to_datetime(df['Fecha'], errors='coerce', format='%Y%m%d')\n",
    "df['Hora'] = pd.to_datetime(df['Hora'], errors='coerce', format='%H%M%S').dt.time\n",
    "df['Latitud'] = pd.to_numeric(df['Latitud'], errors='coerce')\n",
    "df['Longitud'] = pd.to_numeric(df['Longitud'], errors='coerce')\n",
    "df['Magnitud'] = pd.to_numeric(df['Magnitud'], errors='coerce')\n",
    "df['Profundidad'] = pd.to_numeric(df['Profundidad'], errors='coerce')"
   ],
   "id": "3bb255c145192f05",
   "outputs": [],
   "execution_count": 21
  },
  {
   "metadata": {
    "ExecuteTime": {
     "end_time": "2025-04-21T02:19:42.343670Z",
     "start_time": "2025-04-21T02:19:42.339193Z"
    }
   },
   "cell_type": "code",
   "source": "df.head()",
   "id": "732f6479dbd2a633",
   "outputs": [
    {
     "data": {
      "text/plain": [
       "       Fecha      Hora  Latitud  Longitud  Profundidad  Magnitud\n",
       "0 1960-01-13  15:40:34  -16.145   -72.144           60       7.5\n",
       "1 1960-01-15  09:30:24  -15.000   -75.000           70       7.0\n",
       "2 1960-01-17  02:57:58  -14.500   -74.500          150       6.4\n",
       "3 1960-01-23  03:37:32  -12.500   -68.500          300       5.8\n",
       "4 1960-01-30  05:07:24   -5.500   -77.500          100       5.7"
      ],
      "text/html": [
       "<div>\n",
       "<style scoped>\n",
       "    .dataframe tbody tr th:only-of-type {\n",
       "        vertical-align: middle;\n",
       "    }\n",
       "\n",
       "    .dataframe tbody tr th {\n",
       "        vertical-align: top;\n",
       "    }\n",
       "\n",
       "    .dataframe thead th {\n",
       "        text-align: right;\n",
       "    }\n",
       "</style>\n",
       "<table border=\"1\" class=\"dataframe\">\n",
       "  <thead>\n",
       "    <tr style=\"text-align: right;\">\n",
       "      <th></th>\n",
       "      <th>Fecha</th>\n",
       "      <th>Hora</th>\n",
       "      <th>Latitud</th>\n",
       "      <th>Longitud</th>\n",
       "      <th>Profundidad</th>\n",
       "      <th>Magnitud</th>\n",
       "    </tr>\n",
       "  </thead>\n",
       "  <tbody>\n",
       "    <tr>\n",
       "      <th>0</th>\n",
       "      <td>1960-01-13</td>\n",
       "      <td>15:40:34</td>\n",
       "      <td>-16.145</td>\n",
       "      <td>-72.144</td>\n",
       "      <td>60</td>\n",
       "      <td>7.5</td>\n",
       "    </tr>\n",
       "    <tr>\n",
       "      <th>1</th>\n",
       "      <td>1960-01-15</td>\n",
       "      <td>09:30:24</td>\n",
       "      <td>-15.000</td>\n",
       "      <td>-75.000</td>\n",
       "      <td>70</td>\n",
       "      <td>7.0</td>\n",
       "    </tr>\n",
       "    <tr>\n",
       "      <th>2</th>\n",
       "      <td>1960-01-17</td>\n",
       "      <td>02:57:58</td>\n",
       "      <td>-14.500</td>\n",
       "      <td>-74.500</td>\n",
       "      <td>150</td>\n",
       "      <td>6.4</td>\n",
       "    </tr>\n",
       "    <tr>\n",
       "      <th>3</th>\n",
       "      <td>1960-01-23</td>\n",
       "      <td>03:37:32</td>\n",
       "      <td>-12.500</td>\n",
       "      <td>-68.500</td>\n",
       "      <td>300</td>\n",
       "      <td>5.8</td>\n",
       "    </tr>\n",
       "    <tr>\n",
       "      <th>4</th>\n",
       "      <td>1960-01-30</td>\n",
       "      <td>05:07:24</td>\n",
       "      <td>-5.500</td>\n",
       "      <td>-77.500</td>\n",
       "      <td>100</td>\n",
       "      <td>5.7</td>\n",
       "    </tr>\n",
       "  </tbody>\n",
       "</table>\n",
       "</div>"
      ]
     },
     "execution_count": 24,
     "metadata": {},
     "output_type": "execute_result"
    }
   ],
   "execution_count": 24
  }
 ],
 "metadata": {
  "kernelspec": {
   "display_name": "Python 3",
   "language": "python",
   "name": "python3"
  },
  "language_info": {
   "codemirror_mode": {
    "name": "ipython",
    "version": 2
   },
   "file_extension": ".py",
   "mimetype": "text/x-python",
   "name": "python",
   "nbconvert_exporter": "python",
   "pygments_lexer": "ipython2",
   "version": "2.7.6"
  }
 },
 "nbformat": 4,
 "nbformat_minor": 5
}
